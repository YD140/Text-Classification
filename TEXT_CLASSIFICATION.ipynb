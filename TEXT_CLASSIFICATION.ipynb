{
  "nbformat": 4,
  "nbformat_minor": 0,
  "metadata": {
    "colab": {
      "provenance": [],
      "authorship_tag": "ABX9TyPcZn5okP8NaS2/ECcAKVDK",
      "include_colab_link": true
    },
    "kernelspec": {
      "name": "python3",
      "display_name": "Python 3"
    },
    "language_info": {
      "name": "python"
    }
  },
  "cells": [
    {
      "cell_type": "markdown",
      "metadata": {
        "id": "view-in-github",
        "colab_type": "text"
      },
      "source": [
        "<a href=\"https://colab.research.google.com/github/YD140/Text-Classification/blob/main/TEXT_CLASSIFICATION.ipynb\" target=\"_parent\"><img src=\"https://colab.research.google.com/assets/colab-badge.svg\" alt=\"Open In Colab\"/></a>"
      ]
    },
    {
      "cell_type": "markdown",
      "source": [
        "**Importing Library**"
      ],
      "metadata": {
        "id": "GnPHDI8CQ1f0"
      }
    },
    {
      "cell_type": "code",
      "execution_count": 1,
      "metadata": {
        "id": "C5lcFVmElWfI"
      },
      "outputs": [],
      "source": [
        "import pandas as pd\n",
        "import numpy as np\n",
        "import nltk"
      ]
    },
    {
      "cell_type": "markdown",
      "source": [
        "**Data Preprocessing**"
      ],
      "metadata": {
        "id": "HSoLFmgwQ8E_"
      }
    },
    {
      "cell_type": "code",
      "source": [
        "# Read combined_data\n",
        "combined_data = pd.read_csv('/content/combined_data.csv')"
      ],
      "metadata": {
        "id": "Jh6qlol5IwDL"
      },
      "execution_count": null,
      "outputs": []
    },
    {
      "cell_type": "code",
      "source": [
        "#check top 5 rows of combined data\n",
        "combined_data.head()"
      ],
      "metadata": {
        "id": "isNkRQoim2Lj"
      },
      "execution_count": null,
      "outputs": []
    },
    {
      "cell_type": "code",
      "source": [
        "#shape of combined data\n",
        "combined_data.shape"
      ],
      "metadata": {
        "id": "5UCt_V0rxCmX"
      },
      "execution_count": null,
      "outputs": []
    },
    {
      "cell_type": "code",
      "source": [
        "#counting the frequency of unique value in label column\n",
        "combined_data.value_counts('label')"
      ],
      "metadata": {
        "id": "MdFIn9GQy5tP"
      },
      "execution_count": null,
      "outputs": []
    },
    {
      "cell_type": "code",
      "source": [
        "#check the missing value\n",
        "combined_data.isnull().sum()"
      ],
      "metadata": {
        "id": "dVbmvsoFm6ix"
      },
      "execution_count": null,
      "outputs": []
    },
    {
      "cell_type": "code",
      "source": [
        "# Read Spam-data\n",
        "spam_data = pd.read_csv('/content/spam.csv',encoding='latin-1')"
      ],
      "metadata": {
        "id": "jF-mhT-9nA2e"
      },
      "execution_count": null,
      "outputs": []
    },
    {
      "cell_type": "code",
      "source": [
        "spam_data.head()"
      ],
      "metadata": {
        "id": "N1YKMpF-oAZE"
      },
      "execution_count": null,
      "outputs": []
    },
    {
      "cell_type": "code",
      "source": [
        "spam_data.isnull().sum()"
      ],
      "metadata": {
        "id": "U0avV2D8oFhC"
      },
      "execution_count": null,
      "outputs": []
    },
    {
      "cell_type": "code",
      "source": [
        "#Remove the unnecessary column\n",
        "spam_data = spam_data.drop(['Unnamed: 2', 'Unnamed: 3', 'Unnamed: 4'], axis=1)"
      ],
      "metadata": {
        "id": "hRvcuH5goN5e"
      },
      "execution_count": null,
      "outputs": []
    },
    {
      "cell_type": "code",
      "source": [
        "spam_data.head()"
      ],
      "metadata": {
        "id": "5iZtVvsGojiT"
      },
      "execution_count": null,
      "outputs": []
    },
    {
      "cell_type": "code",
      "source": [
        "spam_data.shape"
      ],
      "metadata": {
        "id": "7r5uwdRqxQZK"
      },
      "execution_count": null,
      "outputs": []
    },
    {
      "cell_type": "code",
      "source": [
        "#Rename column v1 and v2 to label and text\n",
        "spam_data = spam_data.rename(columns={'v1': 'label', 'v2': 'text'})"
      ],
      "metadata": {
        "id": "BrAIgEMHoqip"
      },
      "execution_count": null,
      "outputs": []
    },
    {
      "cell_type": "code",
      "source": [
        "spam_data.head()"
      ],
      "metadata": {
        "id": "CH1S-KmcowMc"
      },
      "execution_count": null,
      "outputs": []
    },
    {
      "cell_type": "code",
      "source": [
        "#Replace word ham and spam with 0 and 1.\n",
        "spam_data['label'] = spam_data['label'].replace({'ham': 0, 'spam': 1})"
      ],
      "metadata": {
        "id": "k4aY4wPjuK0T"
      },
      "execution_count": null,
      "outputs": []
    },
    {
      "cell_type": "code",
      "source": [
        "spam_data.head()"
      ],
      "metadata": {
        "id": "LpqoBnZbwAuh"
      },
      "execution_count": null,
      "outputs": []
    },
    {
      "cell_type": "code",
      "source": [
        "spam_data.value_counts('label')"
      ],
      "metadata": {
        "id": "zvD4AtAczA7q"
      },
      "execution_count": null,
      "outputs": []
    },
    {
      "cell_type": "code",
      "source": [
        "spam_data.shape"
      ],
      "metadata": {
        "id": "4uhGXv_IxZJz"
      },
      "execution_count": null,
      "outputs": []
    },
    {
      "cell_type": "code",
      "source": [
        "#combine both the dataset\n",
        "final_data = pd.concat([combined_data, spam_data], ignore_index=True, axis=0).drop_duplicates()"
      ],
      "metadata": {
        "id": "Uuf1UinCwJVd"
      },
      "execution_count": null,
      "outputs": []
    },
    {
      "cell_type": "code",
      "source": [
        "final_data.shape"
      ],
      "metadata": {
        "id": "NeKdyMYDwQIw"
      },
      "execution_count": null,
      "outputs": []
    },
    {
      "cell_type": "code",
      "source": [
        "final_data.value_counts('label')"
      ],
      "metadata": {
        "id": "HtvFD_dXywlV"
      },
      "execution_count": null,
      "outputs": []
    },
    {
      "cell_type": "code",
      "source": [
        "import re\n",
        "import nltk\n",
        "nltk.download('stopwords')\n",
        "nltk.download('punkt')\n",
        "from nltk.corpus import stopwords"
      ],
      "metadata": {
        "id": "q3IDfQj4af9z"
      },
      "execution_count": null,
      "outputs": []
    },
    {
      "cell_type": "code",
      "source": [
        "#Remove extra spaces\n",
        "final_data['text'] = final_data['text'].apply(lambda x: re.sub(r'\\s+', ' ', x, flags=re.I))"
      ],
      "metadata": {
        "id": "PDXLiamTTP3O"
      },
      "execution_count": null,
      "outputs": []
    },
    {
      "cell_type": "code",
      "source": [
        "#convert it into lower case\n",
        "final_data['text'] = final_data['text'].str.lower()"
      ],
      "metadata": {
        "id": "lZMj-3MoXMXi"
      },
      "execution_count": null,
      "outputs": []
    },
    {
      "cell_type": "code",
      "source": [
        "#Remove HTML Tags\n",
        "final_data['text'] = final_data['text'].apply(lambda x: re.sub(r'<.*?>', '', x))"
      ],
      "metadata": {
        "id": "x87E3LXCXb7S"
      },
      "execution_count": null,
      "outputs": []
    },
    {
      "cell_type": "code",
      "source": [
        "#Remove the stopwords\n",
        "stop = stopwords.words('english')\n",
        "final_data['text'] = final_data['text'].apply(lambda x: \" \".join(x for x in x.split() if x not in stop))"
      ],
      "metadata": {
        "id": "gszvz42xW1Yr"
      },
      "execution_count": null,
      "outputs": []
    },
    {
      "cell_type": "code",
      "source": [
        "final_data.head()"
      ],
      "metadata": {
        "id": "QPM8e45WYk1q"
      },
      "execution_count": null,
      "outputs": []
    },
    {
      "cell_type": "code",
      "source": [
        "#Tokenization\n",
        "final_data['text'] = final_data['text'].apply(lambda x: nltk.word_tokenize(x))"
      ],
      "metadata": {
        "id": "xMHJjbjQYsg1"
      },
      "execution_count": null,
      "outputs": []
    },
    {
      "cell_type": "code",
      "source": [
        "final_data.head()"
      ],
      "metadata": {
        "id": "kTbzyagcbpGM"
      },
      "execution_count": null,
      "outputs": []
    },
    {
      "cell_type": "code",
      "source": [
        "#Stemming to find similiar words\n",
        "from nltk.stem.porter import PorterStemmer\n",
        "ps = PorterStemmer()\n",
        "ps.stem('Running')"
      ],
      "metadata": {
        "id": "9Q1jydq1bsno"
      },
      "execution_count": null,
      "outputs": []
    }
  ]
}